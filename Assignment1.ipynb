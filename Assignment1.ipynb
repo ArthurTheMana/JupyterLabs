{
 "cells": [
  {
   "cell_type": "markdown",
   "id": "faf745f0",
   "metadata": {},
   "source": [
    "<H1>My Jupyter Notebook<H1>"
   ]
  },
  {
   "cell_type": "markdown",
   "id": "e3a92563",
   "metadata": {},
   "source": [
    "<b>Nguyen Tai Minh Huy </b><br>Data Science: The Topic "
   ]
  },
  {
   "cell_type": "markdown",
   "id": "d00ce2ec",
   "metadata": {},
   "source": [
    "<i>I have a special interest in data science as it relates to real estate. My goal is to work as a data scientist in the real estate sector, using my knowledge to help clients make wise and calculated investment selections. Gaining extensive expertise in data science will enable me to make a substantial contribution to the Real Estate industry, allowing me to make wise business decisions that will benefit my clients' investments as well as my own professional development. <i>"
   ]
  },
  {
   "cell_type": "markdown",
   "id": "ecea0c6a",
   "metadata": {},
   "source": [
    "<h3>Do you See The Turtle?</h3> "
   ]
  },
  {
   "cell_type": "code",
   "execution_count": 3,
   "id": "13732add",
   "metadata": {},
   "outputs": [
    {
     "name": "stdout",
     "output_type": "stream",
     "text": [
      "The Turtle, did you see??\n"
     ]
    }
   ],
   "source": [
      "import turtle \n"
      "screen = turtle.Screen() \n"
      "screen.bgcolor("black") \n"
      "turtle.speed(0) \n"
      "turtle.color("white") \n"

      "screen.exitonclick()"
   ]
  },
  {
   "cell_type": "markdown",
   "id": "670b3f79",
   "metadata": {},
   "source": [
    "<html>\n",
    "<header>\n",
    "</header>\n",
    "\n",
    "<body>\n",
    "    <section>\n",
    "        <h1> My favourite Characters</h1>\n",
    "        <ol>\n",
    "            <li>Carnelian (Arknights)</li>\n",
    "            <li>Mr. Lee (Arknights)</li>\n",
    "            <li>Lillia (LoL)</li>\n",
    "            <li>Izumi (Blue Archive)</li>\n",
    "        </ol>\n",
    "        <hr>\n",
    "        <table border=\"1px\">\n",
    "            <tr>\n",
    "                <td><b>Games That I like</b></td>\n",
    "                <td><b>Reason For My Like</b></td>\n",
    "                <td><b>Reason Why should you play this game?</b></td>\n", 
    "            </tr>\n",
    "            <tr>\n",
    "                <td>Arknights</td>\n",
    "                <td>Because this game has amazing art and fanbase.</td>\n",
    "                <td>You should try this game by playing through. They have amazing strategies that require you to use a bit of your brain.</td>\n",
    "            </tr>\n",
    "            <tr>\n",
    "                <td>TeamFight Tactics</td>\n",
    "                <td>The game has great graphics, a pack of interesting characters with synergies.</td>\n",
    "                <td>The game has a creative gameplay with an exciting yet unpredictable result.</td>\n",
    "            </tr>\n",
    "            <tr>\n",
    "                <td>Reverse1999</td>\n",
    "                <td>Nice Art, easy gameplay, funny moments.</td>\n",
    "                <td>A perfect side game for relaxation.</td>\n",
    "            </tr>\n",
    "        </table>\n",
    "        <br>\n",
    "        <hr>\n",
    "    </section>\n",
    "    <footer>\n",
    "        <a href=\"https://www.facebook.com/lappla.milarina/\">https://www.facebook.com/lappla.milarina/</a>\n",
    "    </footer>\n",
    "</body>\n",
    "</html>"
   ]
  },
  {
   "cell_type": "markdown",
   "id": "ad581afd",
   "metadata": {},
   "source": []
  },
  {
   "cell_type": "code",
   "execution_count": null,
   "id": "c01b902a",
   "metadata": {},
   "outputs": [],
   "source": []
  }
 ],
 "metadata": {
  "kernelspec": {
   "display_name": "Python 3 (ipykernel)",
   "language": "python",
   "name": "python3"
  },
  "language_info": {
   "codemirror_mode": {
    "name": "ipython",
    "version": 3
   },
   "file_extension": ".py",
   "mimetype": "text/x-python",
   "name": "python",
   "nbconvert_exporter": "python",
   "pygments_lexer": "ipython3",
   "version": "3.9.7"
  }
 },
 "nbformat": 4,
 "nbformat_minor": 5
}
